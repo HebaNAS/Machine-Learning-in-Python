{
 "cells": [
  {
   "cell_type": "markdown",
   "metadata": {},
   "source": [
    "## Instructions\n",
    "------------\n",
    " \n",
    "This file contains code that helps you get started on the logistic regression exercise. You will need to complete the following functions in this exericse:\n",
    "\n",
    "* sigmoid.m\n",
    "* costFunction.m\n",
    "* predict.m\n",
    "* costFunctionReg.m"
   ]
  },
  {
   "cell_type": "markdown",
   "metadata": {},
   "source": [
    "<hr>"
   ]
  },
  {
   "cell_type": "markdown",
   "metadata": {},
   "source": [
    "## Part 1: Loading and Plotting Data\n",
    "---"
   ]
  },
  {
   "cell_type": "code",
   "execution_count": 134,
   "metadata": {},
   "outputs": [
    {
     "name": "stdout",
     "output_type": "stream",
     "text": [
      "Plotting data with + indicating (y = 1) examples and o indicating (y = 0) examples.\n",
      "Number of Training Examples:  100\n"
     ]
    },
    {
     "data": {
      "image/png": "[encoded data removed]",
      "text/plain": [
       "<matplotlib.figure.Figure at 0x1516dd58d0>"
      ]
     },
     "metadata": {},
     "output_type": "display_data"
    }
   ],
   "source": [
    "import pandas as pd\n",
    "import matplotlib\n",
    "import matplotlib.pyplot as plt\n",
    "%matplotlib inline\n",
    "\n",
    "print('Plotting data with + indicating (y = 1) examples and o indicating (y = 0) examples.')\n",
    "\n",
    "data = pd.read_csv('ex2data1.txt', sep=\",\", header=None)\n",
    "\n",
    "X = data.iloc[:, 0:2]\n",
    "y = data.iloc[:, 2]\n",
    "m = len(y) # number of training examples\n",
    "\n",
    "print('Number of Training Examples: ', m)\n",
    "\n",
    "#Plot Data\n",
    "fig = plt.figure(figsize=(8, 6))\n",
    "plt.plot(X.iloc[:, 0][y==1], X.iloc[:, 1][y==1], marker='+',\\\n",
    "         markersize=10, linewidth=0, label='Admitted')\n",
    "plt.plot(X.iloc[:, 0][y==0], X.iloc[:, 1][y==0], marker='o',\\\n",
    "         markersize=10, linewidth=0, label='Not Admitted')\n",
    "plt.xlabel('Exam 1 score')\n",
    "plt.ylabel('Exam 2 score')\n",
    "plt.legend()\n",
    "plt.show()"
   ]
  },
  {
   "cell_type": "markdown",
   "metadata": {},
   "source": [
    "<hr>"
   ]
  },
  {
   "cell_type": "markdown",
   "metadata": {},
   "source": [
    "## Part 2: Compute Cost and Gradient\n",
    "---"
   ]
  },
  {
   "cell_type": "code",
   "execution_count": 135,
   "metadata": {},
   "outputs": [],
   "source": [
    "import numpy as np\n",
    "\n",
    "# Compute Sigmoid\n",
    "def sigmoid(z):\n",
    "    \"\"\"\n",
    "    SIGMOID Compute sigmoid function\n",
    "    g = SIGMOID(z) computes the sigmoid of z.\n",
    "    \"\"\"\n",
    "    g = np.zeros(z.shape)\n",
    "    g = np.divide(1, (1 + np.exp(-z)))\n",
    "\n",
    "    return g"
   ]
  },
  {
   "cell_type": "code",
   "execution_count": 136,
   "metadata": {},
   "outputs": [],
   "source": [
    "# Compute cost and gradient\n",
    "def costFunction(theta, X, y):\n",
    "    \"\"\"\n",
    "    COSTFUNCTION Compute cost and gradient for logistic regression\n",
    "    J = COSTFUNCTION(theta, X, y) computes the cost of using theta as the\n",
    "    parameter for logistic regression and the gradient of the cost\n",
    "    w.r.t. to the parameters.\n",
    "    \"\"\"\n",
    "    \n",
    "    # Initialize some useful values\n",
    "    m = len(y) # number of training examples\n",
    "    J = 0\n",
    "    grad = np.zeros(theta.shape)\n",
    "\n",
    "    h = sigmoid(X @ theta)\n",
    "    h = np.ravel(h)\n",
    "    err = h - y\n",
    "\n",
    "    part_1 = -y.T @ np.log(h)\n",
    "    part_2 = -(1 - y.T) @ np.log(1 - h)\n",
    "\n",
    "    J = (1 / m) * (part_1 + part_2)\n",
    "    grad = (1 / m) * X.T @ err.reshape(m, 1)\n",
    "    \n",
    "    return J, grad"
   ]
  },
  {
   "cell_type": "code",
   "execution_count": 137,
   "metadata": {},
   "outputs": [
    {
     "name": "stdout",
     "output_type": "stream",
     "text": [
      "Cost at initial theta (zeros): 0.6931471805599452\n",
      "Expected cost (approx): 0.693\n",
      "Gradient at initial theta (zeros):\n",
      "[[ -0.1       ]\n",
      " [-12.00921659]\n",
      " [-11.26284221]]\n",
      "Expected gradients (approx):\n",
      " -0.1000\n",
      " -12.0092\n",
      " -11.2628\n",
      "\n",
      "Cost at test theta: 0.21833019382659796\n",
      "Expected cost (approx): 0.218\n",
      "Gradient at test theta:\n",
      "[[0.04290299]\n",
      " [2.56623412]\n",
      " [2.64679737]]\n",
      "Expected gradients (approx):\n",
      " 0.043\n",
      " 2.566\n",
      " 2.647\n",
      "\n"
     ]
    },
    {
     "name": "stderr",
     "output_type": "stream",
     "text": [
      "/Users/Heba/anaconda3/lib/python3.5/site-packages/ipykernel_launcher.py:23: FutureWarning: reshape is deprecated and will raise in a subsequent release. Please use .values.reshape(...) instead\n"
     ]
    }
   ],
   "source": [
    "# Setup the data matrix appropriately, and add ones for the intercept term\n",
    "m, n = X.shape\n",
    "X = np.hstack( ((np.ones([m, 1])), (X)) )\n",
    "\n",
    "# Initialize fitting parameters\n",
    "initial_theta = np.zeros([n+1, 1])\n",
    "\n",
    "# Compute and display initial cost and gradient\n",
    "cost, grad = costFunction(initial_theta, X, y)\n",
    "\n",
    "print('Cost at initial theta (zeros): {0}'.format(cost))\n",
    "print('Expected cost (approx): 0.693')\n",
    "print('Gradient at initial theta (zeros):')\n",
    "print(grad)\n",
    "print('Expected gradients (approx):\\n -0.1000\\n -12.0092\\n -11.2628\\n')\n",
    "\n",
    "# Compute and display cost and gradient with non-zero theta\n",
    "test_theta = np.asmatrix('-24; 0.2; 0.2')\n",
    "cost, grad = costFunction(test_theta, X, y)\n",
    "\n",
    "print('Cost at test theta: {0}'.format(cost))\n",
    "print('Expected cost (approx): 0.218')\n",
    "print('Gradient at test theta:')\n",
    "print(grad)\n",
    "print('Expected gradients (approx):\\n 0.043\\n 2.566\\n 2.647\\n')"
   ]
  },
  {
   "cell_type": "markdown",
   "metadata": {},
   "source": [
    "## Part 3: Optimizing\n",
    "---"
   ]
  },
  {
   "cell_type": "code",
   "execution_count": 162,
   "metadata": {},
   "outputs": [],
   "source": [
    "def mapFeature(X1, X2):\n",
    "    \"\"\"\n",
    "    MAPFEATURE Feature mapping function to polynomial features\n",
    "\n",
    "    MAPFEATURE(X1, X2) maps the two input features\n",
    "    to quadratic features used in the regularization exercise.\n",
    "\n",
    "    Returns a new feature array with more features, comprising of \n",
    "    X1, X2, X1.^2, X2.^2, X1*X2, X1*X2.^2, etc..\n",
    "\n",
    "    Inputs X1, X2 must be the same size\n",
    "    \"\"\"\n",
    "\n",
    "    degree = 6\n",
    "    out = np.ones([X1[:, 0].shape])\n",
    "\n",
    "    for i in range(degree):\n",
    "        for j in range(0, i):\n",
    "            out[:, -1] = np.multiply(np.power(X1, (i-j)), np.power(X2, j))\n",
    "    \n",
    "    return out"
   ]
  },
  {
   "cell_type": "code",
   "execution_count": 213,
   "metadata": {},
   "outputs": [],
   "source": [
    "# Plot Decision Boundary\n",
    "def plotDecisionBoundary(theta, X, y):\n",
    "    \"\"\"\n",
    "    PLOTDECISIONBOUNDARY Plots the data points X and y into a new figure with\n",
    "    the decision boundary defined by theta\n",
    "    PLOTDECISIONBOUNDARY(theta, X,y) plots the data points with + for the \n",
    "    positive examples and o for the negative examples. X is assumed to be \n",
    "    a either \n",
    "    1) Mx3 matrix, where the first column is an all-ones column for the \n",
    "       intercept.\n",
    "    2) MxN, N>3 matrix, where the first column is all-ones\n",
    "    \"\"\"\n",
    "    \n",
    "    # Plot Data\n",
    "    fig1 = plt.figure(figsize=(8, 6))\n",
    "    plt.plot(X[:, 1][y==1], X[:, 2][y==1], marker='+',\\\n",
    "         markersize=10, linewidth=0, label='Admitted')\n",
    "    plt.plot(X[:, 1][y==0], X[:, 2][y==0], marker='o',\\\n",
    "         markersize=10, linewidth=0, label='Not Admitted')\n",
    "\n",
    "    if X.shape[1] <= 3:\n",
    "        # Only need 2 points to define a line, so choose two endpoints\n",
    "        plot_x = (min(X[:, 1]) - 2,  max(X[:, 2]) + 2)\n",
    "        plot_x = np.asarray(plot_x)\n",
    "        \n",
    "        # Calculate the decision boundary line\n",
    "        plot_y = (-1 / theta[2]) * (theta[1] * plot_x + theta[0])\n",
    "        \n",
    "        # Plot, and adjust axes for better viewing\n",
    "        plt.plot(plot_x, plot_y, linewidth=2, label='Decision Boundary')\n",
    "    else:\n",
    "        # Here is the grid range\n",
    "        u = np.linspace(-1, 1.5, 50)\n",
    "        v = np.linspace(-1, 1.5, 50)\n",
    "\n",
    "        z = np.zeros([len(u), len(v)])\n",
    "        \n",
    "        # Evaluate z = theta*x over the grid\n",
    "        for i in range(len(u)):\n",
    "            for j in range(len(v)):\n",
    "                z[i,j] = mapFeature(u[i], v[j]) @ theta\n",
    "        z = z.T # important to transpose z before calling contour\n",
    "\n",
    "        # Plot z = 0\n",
    "        # Notice you need to specify the range [0, 0]\n",
    "        plt.contour(u, v, z, [0, 0], linewidth=2)\n",
    "    \n",
    "    \n",
    "    axes = plt.gca()\n",
    "    axes.set_xlim([30, 100])\n",
    "    axes.set_ylim([30, 100])\n",
    "    plt.xlabel('Exam 1 score')\n",
    "    plt.ylabel('Exam 2 score')\n",
    "    plt.legend()\n",
    "    plt.show()"
   ]
  },
  {
   "cell_type": "code",
   "execution_count": 214,
   "metadata": {},
   "outputs": [
    {
     "name": "stdout",
     "output_type": "stream",
     "text": [
      "Cost at theta found by fminunc: 0.20349770158947478\n",
      "Expected cost (approx): 0.203\n",
      "Optimized theta: [-25.16131859   0.20623159   0.20147149]\n",
      "Expected theta (approx):\n",
      " -25.161\n",
      " 0.206\n",
      " 0.201\n",
      "\n"
     ]
    },
    {
     "name": "stderr",
     "output_type": "stream",
     "text": [
      "/Users/Heba/anaconda3/lib/python3.5/site-packages/ipykernel_launcher.py:23: FutureWarning: reshape is deprecated and will raise in a subsequent release. Please use .values.reshape(...) instead\n"
     ]
    },
    {
     "data": {
      "image/png": "[encoded data removed]",
      "text/plain": [
       "<matplotlib.figure.Figure at 0x10fcb01d0>"
      ]
     },
     "metadata": {},
     "output_type": "display_data"
    }
   ],
   "source": [
    "import scipy.optimize as op\n",
    "\n",
    "#  Run fminunc to obtain the optimal theta\n",
    "#  This function will return theta and the cost\n",
    "results = op.minimize(costFunction, initial_theta, (X,y), method='TNC', options={\n",
    "                'maxiter': 400\n",
    "            }, jac=True)\n",
    "opt_theta = results.x\n",
    "\n",
    "# Print theta to screen\n",
    "print('Cost at theta found by fminunc: {0}'.format(results.fun))\n",
    "print('Expected cost (approx): 0.203')\n",
    "print('Optimized theta:', opt_theta)\n",
    "print('Expected theta (approx):')\n",
    "print(' -25.161\\n 0.206\\n 0.201\\n')\n",
    "\n",
    "# Plot Boundary\n",
    "plotDecisionBoundary(opt_theta, X, y)"
   ]
  },
  {
   "cell_type": "markdown",
   "metadata": {},
   "source": [
    "<hr>"
   ]
  },
  {
   "cell_type": "markdown",
   "metadata": {},
   "source": [
    "## Part 4: Predict and Accuracies\n",
    "---"
   ]
  },
  {
   "cell_type": "code",
   "execution_count": 215,
   "metadata": {},
   "outputs": [],
   "source": [
    "def predict(theta, X):\n",
    "    \"\"\"\n",
    "    PREDICT Predict whether the label is 0 or 1 using learned logistic \n",
    "    regression parameters theta\n",
    "    p = PREDICT(theta, X) computes the predictions for X using a \n",
    "    threshold at 0.5 (i.e., if sigmoid(theta'*x) >= 0.5, predict 1)\n",
    "    \"\"\"\n",
    "    \n",
    "    m = X.shape[0] # Number of training examples\n",
    "    p = np.zeros([m, 1])\n",
    "\n",
    "    p = sigmoid(X @ theta) >= 0.5\n",
    "    \n",
    "    return p"
   ]
  },
  {
   "cell_type": "code",
   "execution_count": 225,
   "metadata": {},
   "outputs": [
    {
     "name": "stdout",
     "output_type": "stream",
     "text": [
      "For a student with scores 45 and 85, we predict an admission probability of 0.7762906228281016\n",
      "Expected value: 0.775 +/- 0.002\n",
      "\n",
      "\n",
      "Train Accuracy: 89.0\n",
      "Expected accuracy (approx): 89.0\n",
      "\n"
     ]
    }
   ],
   "source": [
    "# Predict probability for a student with score 45 on exam 1 \n",
    "# and score 85 on exam 2 \n",
    "\n",
    "prob = sigmoid(np.array([1, 45, 85]) @ opt_theta)\n",
    "print('For a student with scores 45 and 85, we predict an admission probability of {0}'\\\n",
    "      .format(prob))\n",
    "print('Expected value: 0.775 +/- 0.002\\n\\n')\n",
    "\n",
    "# Compute accuracy on our training set\n",
    "p = predict(opt_theta, X)\n",
    "\n",
    "print('Train Accuracy: {0}'.format(np.mean(np.double(p == y)) * 100))\n",
    "print('Expected accuracy (approx): 89.0\\n')"
   ]
  },
  {
   "cell_type": "code",
   "execution_count": null,
   "metadata": {},
   "outputs": [],
   "source": []
  }
 ],
 "metadata": {
  "kernelspec": {
   "display_name": "Python 3",
   "language": "python",
   "name": "python3"
  },
  "language_info": {
   "codemirror_mode": {
    "name": "ipython",
    "version": 3
   },
   "file_extension": ".py",
   "mimetype": "text/x-python",
   "name": "python",
   "nbconvert_exporter": "python",
   "pygments_lexer": "ipython3",
   "version": "3.5.4"
  }
 },
 "nbformat": 4,
 "nbformat_minor": 2
}
