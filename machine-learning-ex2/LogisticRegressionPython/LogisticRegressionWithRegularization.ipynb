{
 "cells": [
  {
   "cell_type": "markdown",
   "metadata": {},
   "source": [
    "## Instructions\n",
    "------------\n",
    " \n",
    "This file contains code that helps you get started on the logistic regression exercise. You will need to complete the following functions in this exericse:\n",
    "\n",
    "* sigmoid.m\n",
    "* costFunction.m\n",
    "* predict.m\n",
    "* costFunctionReg.m"
   ]
  },
  {
   "cell_type": "markdown",
   "metadata": {},
   "source": [
    "<hr>"
   ]
  },
  {
   "cell_type": "markdown",
   "metadata": {},
   "source": [
    "## Part 1: Loading and Plotting Data\n",
    "---"
   ]
  },
  {
   "cell_type": "code",
   "execution_count": 358,
   "metadata": {},
   "outputs": [
    {
     "name": "stdout",
     "output_type": "stream",
     "text": [
      "Plotting data with + indicating (y = 1) examples and o indicating (y = 0) examples.\n",
      "Number of Training Examples:  118\n"
     ]
    },
    {
     "data": {
      "image/png": "[encoded data removed]",
      "text/plain": [
       "<matplotlib.figure.Figure at 0x1510349eb8>"
      ]
     },
     "metadata": {},
     "output_type": "display_data"
    }
   ],
   "source": [
    "import pandas as pd\n",
    "import matplotlib\n",
    "import matplotlib.pyplot as plt\n",
    "%matplotlib inline\n",
    "\n",
    "print('Plotting data with + indicating (y = 1) examples and o indicating (y = 0) examples.')\n",
    "\n",
    "data = pd.read_csv('ex2data2.txt', sep=\",\", header=None)\n",
    "\n",
    "X = data.iloc[:, 0:2]\n",
    "y = data.iloc[:, 2]\n",
    "m = len(y) # number of training examples\n",
    "\n",
    "print('Number of Training Examples: ', m)\n",
    "\n",
    "#Plot Data\n",
    "fig = plt.figure(figsize=(8, 6))\n",
    "plt.plot(X.iloc[:, 0][y==1], X.iloc[:, 1][y==1], marker='+',\\\n",
    "         markersize=10, linewidth=0, label='y = 1')\n",
    "plt.plot(X.iloc[:, 0][y==0], X.iloc[:, 1][y==0], marker='o',\\\n",
    "         markersize=10, linewidth=0, label='y = 0')\n",
    "plt.xlabel('Microchip Test 1')\n",
    "plt.ylabel('Microchip Test 2')\n",
    "plt.legend()\n",
    "plt.show()"
   ]
  },
  {
   "cell_type": "markdown",
   "metadata": {},
   "source": [
    "<hr>"
   ]
  },
  {
   "cell_type": "markdown",
   "metadata": {},
   "source": [
    "## Part 1: Regularized Logistic Regression\n",
    "---"
   ]
  },
  {
   "cell_type": "code",
   "execution_count": 467,
   "metadata": {},
   "outputs": [],
   "source": [
    "# Compute Sigmoid\n",
    "def sigmoid(z):\n",
    "    \"\"\"\n",
    "    SIGMOID Compute sigmoid function\n",
    "    g = SIGMOID(z) computes the sigmoid of z.\n",
    "    \"\"\"\n",
    "    g = np.zeros([z.shape[0], 1])\n",
    "    g = np.divide(1, (1 + np.exp(-z)))\n",
    "\n",
    "    return g"
   ]
  },
  {
   "cell_type": "code",
   "execution_count": 526,
   "metadata": {},
   "outputs": [],
   "source": [
    "# Calculate Regularized Cost\n",
    "def costFunctionReg(theta, X, y, lamb):\n",
    "    \"\"\"\n",
    "    COSTFUNCTIONREG Compute cost and gradient for logistic regression with regularization\n",
    "    J = COSTFUNCTIONREG(theta, X, y, lambda) computes the cost of using\n",
    "    theta as the parameter for regularized logistic regression and the\n",
    "    gradient of the cost w.r.t. to the parameters. \n",
    "    \"\"\"\n",
    "    \n",
    "    # Initialize some useful values\n",
    "    m = len(y) # number of training examples\n",
    "    J = 0\n",
    "    grad = np.zeros([theta.shape[0]])\n",
    "\n",
    "    h = sigmoid(X @ np.asarray(theta))\n",
    "    h = np.ravel(h)\n",
    "    err = h - y\n",
    "\n",
    "    thetaMod = np.asarray(theta)\n",
    "    thetaMod[0] = 0\n",
    "    \n",
    "    part_1 = -y.T @ np.log(h)\n",
    "    part_2 = -(1 - y.T) @ np.log(1 - h)\n",
    "    part_3 = (lamb / (2 * m)) * ((thetaMod[1:]).T @ thetaMod[1:])\n",
    "    part_4 = (lamb / m) * thetaMod.T\n",
    "    \n",
    "    J = ((1 / m) * (part_1 + part_2)) + part_3\n",
    "    grad = ((1 / m) * err.T @ X) + part_4\n",
    "    \n",
    "    return J, grad"
   ]
  },
  {
   "cell_type": "code",
   "execution_count": 543,
   "metadata": {},
   "outputs": [],
   "source": [
    "def mapFeature(X1, X2):\n",
    "    \"\"\"\n",
    "    MAPFEATURE Feature mapping function to polynomial features\n",
    "\n",
    "    MAPFEATURE(X1, X2) maps the two input features\n",
    "    to quadratic features used in the regularization exercise.\n",
    "\n",
    "    Returns a new feature array with more features, comprising of \n",
    "    X1, X2, X1.^2, X2.^2, X1*X2, X1*X2.^2, etc..\n",
    "\n",
    "    Inputs X1, X2 must be the same size\n",
    "    \"\"\"\n",
    "\n",
    "    degree = 6\n",
    "    out = np.ones([np.size(X1), 1])\n",
    "    \n",
    "    for i in range(0, degree+1):\n",
    "        temp = np.zeros([np.size(X1), 1])\n",
    "        for j in range(0, i+1):\n",
    "            temp[:, -1] = np.multiply(np.power(X1, (i-j)), np.power(X2, j))\n",
    "        \n",
    "            out = np.append(out, np.asarray(temp), axis=1)\n",
    "    \n",
    "    out = out[:, 1:]\n",
    "    return out"
   ]
  },
  {
   "cell_type": "code",
   "execution_count": 544,
   "metadata": {},
   "outputs": [
    {
     "name": "stdout",
     "output_type": "stream",
     "text": [
      "Cost at initial theta (zeros): 0.6931471805599453\n",
      "Expected cost (approx): 0.693\n",
      "Gradient at initial theta (zeros) - first five values only:\n",
      "[8.47457627e-03 1.87880932e-02 7.77711864e-05 5.03446395e-02\n",
      " 1.15013308e-02] \n",
      "\n",
      "Expected gradients (approx) - first five values only:\n",
      "0.0085\n",
      " 0.0188\n",
      " 0.0001\n",
      " 0.0503\n",
      " 0.0115\n",
      "\n",
      "\n",
      "Cost at test theta (with lambda = 10): 3.16450933161501\n",
      "Expected cost (approx): 3.16\n",
      "Gradient at test theta - first five values only:\n",
      "[0.34604507 0.16135192 0.19479576 0.22686278 0.09218568]\n",
      "\n",
      "Expected gradients (approx) - first five values only:\n",
      "0.3460\n",
      " 0.1614\n",
      " 0.1948\n",
      " 0.2269\n",
      " 0.0922\n",
      "\n"
     ]
    }
   ],
   "source": [
    "import numpy as np\n",
    "\n",
    "# Add Polynomial Features\n",
    "\n",
    "# Note that mapFeature also adds a column of ones for us, so the intercept\n",
    "# term is handled\n",
    "X_feat = mapFeature(X.iloc[:, 0], X.iloc[:, 1])\n",
    "\n",
    "# Initialize fitting parameters\n",
    "initial_theta = np.zeros([np.size(X_feat[1])])\n",
    "\n",
    "# Set regularization parameter lambda to 1\n",
    "lamb = 1\n",
    "\n",
    "# Compute and display initial cost and gradient for regularized logistic regression\n",
    "cost, grad = costFunctionReg(initial_theta, X_feat, y, lamb)\n",
    "\n",
    "print('Cost at initial theta (zeros): {0}'.format(cost))\n",
    "print('Expected cost (approx): 0.693')\n",
    "print('Gradient at initial theta (zeros) - first five values only:')\n",
    "print('{0} \\n'.format(grad[:5]))\n",
    "print('Expected gradients (approx) - first five values only:')\n",
    "print('0.0085\\n 0.0188\\n 0.0001\\n 0.0503\\n 0.0115\\n')\n",
    "\n",
    "# Compute and display cost and gradient with all-ones theta and lambda = 10\n",
    "test_theta = np.ones([np.size(X_feat[1])])\n",
    "cost, grad = costFunctionReg(test_theta, X_feat, y, 10)\n",
    "\n",
    "print('\\nCost at test theta (with lambda = 10): {0}'.format(cost))\n",
    "print('Expected cost (approx): 3.16')\n",
    "print('Gradient at test theta - first five values only:')\n",
    "print('{0}\\n'.format(grad[:5]))\n",
    "print('Expected gradients (approx) - first five values only:')\n",
    "print('0.3460\\n 0.1614\\n 0.1948\\n 0.2269\\n 0.0922\\n')"
   ]
  },
  {
   "cell_type": "markdown",
   "metadata": {},
   "source": [
    "<hr>"
   ]
  },
  {
   "cell_type": "markdown",
   "metadata": {},
   "source": [
    "## Part 2: Regularization and Accuracies\n",
    "---"
   ]
  },
  {
   "cell_type": "code",
   "execution_count": 654,
   "metadata": {},
   "outputs": [],
   "source": [
    "# Plot Decision Boundary\n",
    "def plotDecisionBoundary(theta, X, y):\n",
    "    \"\"\"\n",
    "    PLOTDECISIONBOUNDARY Plots the data points X and y into a new figure with\n",
    "    the decision boundary defined by theta\n",
    "    PLOTDECISIONBOUNDARY(theta, X,y) plots the data points with + for the \n",
    "    positive examples and o for the negative examples. X is assumed to be \n",
    "    a either \n",
    "    1) Mx3 matrix, where the first column is an all-ones column for the \n",
    "       intercept.\n",
    "    2) MxN, N>3 matrix, where the first column is all-ones\n",
    "    \"\"\"\n",
    "    X = np.asarray(X)\n",
    "    \n",
    "    # Plot Data\n",
    "    fig1 = plt.figure(figsize=(8, 6))\n",
    "    plt.plot(X[:, 1][y==1], X[:, 2][y==1], marker='+',\\\n",
    "         markersize=10, linewidth=0, label='y = 1')\n",
    "    plt.plot(X[:, 1][y==0], X[:, 2][y==0], marker='o',\\\n",
    "         markersize=10, linewidth=0, label='y = 0')\n",
    "\n",
    "    if X.shape[1] <= 3:\n",
    "        # Only need 2 points to define a line, so choose two endpoints\n",
    "        plot_x = (min(X[:, 1]) - 2,  max(X[:, 2]) + 2)\n",
    "        plot_x = np.asarray(plot_x)\n",
    "        \n",
    "        # Calculate the decision boundary line\n",
    "        plot_y = (-1 / theta[2]) * (theta[1] * plot_x + theta[0])\n",
    "        \n",
    "        # Plot, and adjust axes for better viewing\n",
    "        plt.plot(plot_x, plot_y, linewidth=2, label='Decision Boundary')\n",
    "    else:\n",
    "        # Here is the grid range\n",
    "        u = np.linspace(-1, 1.5, 50)\n",
    "        v = np.linspace(-1, 1.5, 50)\n",
    "\n",
    "        z = np.zeros([len(u), len(v)])\n",
    "        \n",
    "        # Evaluate z = theta*x over the grid\n",
    "        for i in range(0, len(u)):\n",
    "            for j in range(0, len(v)):\n",
    "                z[i,j] = mapFeature(u[i], v[j]) @ theta\n",
    "        z = z.T # important to transpose z before calling contour\n",
    "        \n",
    "        # Plot z = 0\n",
    "        # Notice you need to specify the range [0, 0]\n",
    "        plt.contour(u, v, z, [0, 1], linewidths=2)\n",
    "    \n",
    "    plt.xlabel('Microchip Test 1')\n",
    "    plt.ylabel('Microchip Test 2')\n",
    "    plt.legend()\n",
    "    plt.show()"
   ]
  },
  {
   "cell_type": "code",
   "execution_count": 707,
   "metadata": {},
   "outputs": [
    {
     "data": {
      "image/png": "[encoded data removed]",
      "text/plain": [
       "<matplotlib.figure.Figure at 0x15116bf048>"
      ]
     },
     "metadata": {},
     "output_type": "display_data"
    }
   ],
   "source": [
    "import scipy.optimize as op\n",
    "\n",
    "# Initialize fitting parameters\n",
    "initial_theta = np.zeros([X_feat.shape[1], 1])\n",
    "\n",
    "# Set regularization parameter lambda to 1\n",
    "lamb = 1\n",
    "\n",
    "#  Run fminunc to obtain the optimal theta\n",
    "#  This function will return theta and the cost\n",
    "results = op.minimize(costFunctionReg, initial_theta, (X_feat, y, lamb), method='TNC', options={\n",
    "                'maxiter': 400\n",
    "            }, jac=True)\n",
    "opt_theta = results.x\n",
    "\n",
    "# Plot Boundary\n",
    "plotDecisionBoundary(opt_theta, X_feat, y)"
   ]
  },
  {
   "cell_type": "code",
   "execution_count": 703,
   "metadata": {},
   "outputs": [],
   "source": [
    "def predict(theta, X):\n",
    "    \"\"\"\n",
    "    PREDICT Predict whether the label is 0 or 1 using learned logistic \n",
    "    regression parameters theta\n",
    "    p = PREDICT(theta, X) computes the predictions for X using a \n",
    "    threshold at 0.5 (i.e., if sigmoid(theta'*x) >= 0.5, predict 1)\n",
    "    \"\"\"\n",
    "    \n",
    "    m = X.shape[0] # Number of training examples\n",
    "    p = np.zeros([m, 1])\n",
    "\n",
    "    p = sigmoid(X @ theta) >= 0.5\n",
    "    \n",
    "    return p"
   ]
  },
  {
   "cell_type": "code",
   "execution_count": 708,
   "metadata": {},
   "outputs": [
    {
     "name": "stdout",
     "output_type": "stream",
     "text": [
      "Train Accuracy: 66.10169491525424\n",
      "Expected accuracy (with lambda = 1): 83.1 (approx)\n"
     ]
    }
   ],
   "source": [
    "# Compute accuracy on our training set\n",
    "p = predict(opt_theta, X_feat)\n",
    "\n",
    "print('Train Accuracy: {0}'.format(np.mean(np.double(p == y)) * 100))\n",
    "print('Expected accuracy (with lambda = 1): 83.1 (approx)')"
   ]
  }
 ],
 "metadata": {
  "kernelspec": {
   "display_name": "Python 3",
   "language": "python",
   "name": "python3"
  },
  "language_info": {
   "codemirror_mode": {
    "name": "ipython",
    "version": 3
   },
   "file_extension": ".py",
   "mimetype": "text/x-python",
   "name": "python",
   "nbconvert_exporter": "python",
   "pygments_lexer": "ipython3",
   "version": "3.5.4"
  }
 },
 "nbformat": 4,
 "nbformat_minor": 2
}
