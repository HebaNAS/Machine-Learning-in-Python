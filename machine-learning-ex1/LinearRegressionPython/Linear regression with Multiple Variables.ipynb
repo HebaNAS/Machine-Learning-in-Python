{
 "cells": [
  {
   "cell_type": "markdown",
   "metadata": {},
   "source": [
    "# Instructions\n",
    "------------\n",
    "This file contains code that helps you get started on the linear regression exercise. \n",
    "\n",
    "You will need to complete the following functions in this exericse:\n",
    "\n",
    "* gradientDescentMulti.m\n",
    "* computeCostMulti.m\n",
    "* featureNormalize.m\n",
    "* normalEqn.m\n",
    "\n",
    "For this part of the exercise, you will need to change some parts of the code below for various experiments (e.g., changing learning rates)."
   ]
  },
  {
   "cell_type": "markdown",
   "metadata": {},
   "source": [
    "<hr>"
   ]
  },
  {
   "cell_type": "markdown",
   "metadata": {},
   "source": [
    "# Part 1: Feature Normalization\n",
    "---"
   ]
  },
  {
   "cell_type": "code",
   "execution_count": null,
   "metadata": {},
   "outputs": [],
   "source": [
    "import numpy as np\n",
    "import pandas as pd\n",
    "\n",
    "def featureNormalize(X):\n",
    "    \"\"\"\n",
    "    FEATURENORMALIZE Normalizes the features in X \n",
    "    FEATURENORMALIZE(X) returns a normalized version of X where   \n",
    "    the mean value of each feature is 0 and the standard deviation\n",
    "    is 1. This is often a good preprocessing step to do when\n",
    "    working with learning algorithms.\n",
    "    \"\"\"\n",
    "    \n",
    "    n = X.shape[1]\n",
    "    X_arr = np.asarray(X)\n",
    "    X_norm = X_arr.astype('float')\n",
    "    mu = np.zeros([1, n])\n",
    "    sigma = np.zeros([1, n])\n",
    "\n",
    "    for i in range(n):\n",
    "        avg = np.mean(X_arr[:, i])\n",
    "        deviation = np.std(X_arr[:, i])\n",
    "\n",
    "        X_norm[:, i] = X_norm[:, i] - float(avg)\n",
    "        X_norm[:, i] = X_norm[:, i] / float(deviation)\n",
    "\n",
    "        mu[:, i] = avg\n",
    "        sigma[:, i] = deviation\n",
    "        \n",
    "    return X_norm, mu, sigma"
   ]
  },
  {
   "cell_type": "code",
   "execution_count": null,
   "metadata": {},
   "outputs": [],
   "source": [
    "# Load Data\n",
    "data = pd.read_csv('ex1data2.txt', sep=\",\", header=None)\n",
    "\n",
    "X = data.iloc[:, 0:2]\n",
    "y = data.iloc[:, 2]\n",
    "m = len(y)\n",
    "\n",
    "# Print out some data points\n",
    "print('First 10 examples from the dataset:')\n",
    "for i in range(10):\n",
    "    print('x = [{0}],\\ny = {1}\\n----'.format(X.loc[i], y[i]))\n",
    "\n",
    "# Scale features and set them to zero mean\n",
    "print('Normalizing Features ...')\n",
    "\n",
    "X, mu, sigma = featureNormalize(X)\n",
    "\n",
    "# Add intercept term to X\n",
    "X = np.hstack( ((np.ones([m, 1])), (X)) ) # Add a column of ones to X"
   ]
  },
  {
   "cell_type": "markdown",
   "metadata": {},
   "source": [
    "<hr>"
   ]
  },
  {
   "cell_type": "markdown",
   "metadata": {},
   "source": [
    "## Part 2: Gradient Descent\n",
    "---"
   ]
  },
  {
   "cell_type": "code",
   "execution_count": null,
   "metadata": {},
   "outputs": [],
   "source": [
    "def computeCostMulti(X, y, theta):\n",
    "    \"\"\"\n",
    "    COMPUTECOSTMULTI Compute cost for linear regression with multiple variables\n",
    "    J = COMPUTECOSTMULTI(X, y, theta) computes the cost of using theta as the\n",
    "    parameter for linear regression to fit the data points in X and y\n",
    "    \"\"\"\n",
    "\n",
    "    # Initialize some useful values\n",
    "    m = len(y) # number of training examples\n",
    "    J = 0\n",
    "\n",
    "    h = X @ theta\n",
    "    h = np.ravel(h)\n",
    "    squaredErrors = np.square(h - y)\n",
    "    J = (1 / (2 * m)) * sum(squaredErrors)\n",
    "    \n",
    "    return J"
   ]
  },
  {
   "cell_type": "code",
   "execution_count": null,
   "metadata": {},
   "outputs": [],
   "source": [
    "def gradientDescentMulti(X, y, theta, alpha, num_iters):\n",
    "    \"\"\"\n",
    "    GRADIENTDESCENTMULTI Performs gradient descent to learn theta\n",
    "    theta = GRADIENTDESCENTMULTI(x, y, theta, alpha, num_iters) updates theta by\n",
    "    taking num_iters gradient steps with learning rate alpha\n",
    "    \"\"\"\n",
    "\n",
    "    # Initialize some useful values\n",
    "    m = len(y) # number of training examples\n",
    "    J_history = np.zeros([num_iters, 1])\n",
    "\n",
    "    for iter in range(num_iters):\n",
    "        h = X @ theta\n",
    "        h = np.ravel(h)\n",
    "        theta = theta - alpha * (1 / m) * (X.T @ (h - y).reshape((m,1)))\n",
    "      \n",
    "        J_history[iter] = computeCostMulti(X, y, np.asmatrix(theta))\n",
    "                                           \n",
    "    return theta, J_history"
   ]
  },
  {
   "cell_type": "code",
   "execution_count": 197,
   "metadata": {},
   "outputs": [
    {
     "name": "stdout",
     "output_type": "stream",
     "text": [
      "Running gradient descent ...\n"
     ]
    },
    {
     "name": "stderr",
     "output_type": "stream",
     "text": [
      "/Users/Heba/anaconda3/lib/python3.5/site-packages/ipykernel_launcher.py:15: FutureWarning: reshape is deprecated and will raise in a subsequent release. Please use .values.reshape(...) instead\n",
      "  from ipykernel import kernelapp as app\n"
     ]
    },
    {
     "data": {
      "image/png": "[encoded data removed]",
      "text/plain": [
       "<matplotlib.figure.Figure at 0x10f207ba8>"
      ]
     },
     "metadata": {},
     "output_type": "display_data"
    },
    {
     "name": "stdout",
     "output_type": "stream",
     "text": [
      "Theta computed from gradient descent:\n",
      "[[334302.06399328]\n",
      " [ 99411.44947359]\n",
      " [  3267.01285407]]\n"
     ]
    }
   ],
   "source": [
    "import matplotlib\n",
    "import matplotlib.pyplot as plt\n",
    "%matplotlib inline\n",
    "\n",
    "print('Running gradient descent ...')\n",
    "\n",
    "# Choose some alpha value\n",
    "alpha = 0.01\n",
    "num_iters = 400\n",
    "\n",
    "# Init Theta and Run Gradient Descent \n",
    "theta = np.zeros([3, 1])\n",
    "theta, J_history = gradientDescentMulti(X, y, theta, alpha, num_iters)\n",
    "\n",
    "# Plot the convergence graph\n",
    "fig = plt.figure(figsize=(8, 6))\n",
    "\n",
    "x = np.array(range(0, np.size(J_history)))\n",
    "ones = np.ones([len(x)])\n",
    "x_stack = np.vstack( ((ones), (x)) )\n",
    "plt.plot(x_stack[1], J_history)\n",
    "plt.xlabel('Number of iterations')\n",
    "plt.ylabel('Cost J')\n",
    "plt.show()\n",
    "\n",
    "# Display gradient descent's result\n",
    "print('Theta computed from gradient descent:');\n",
    "print(theta)"
   ]
  },
  {
   "cell_type": "code",
   "execution_count": null,
   "metadata": {},
   "outputs": [],
   "source": []
  }
 ],
 "metadata": {
  "kernelspec": {
   "display_name": "Python 3",
   "language": "python",
   "name": "python3"
  },
  "language_info": {
   "codemirror_mode": {
    "name": "ipython",
    "version": 3
   },
   "file_extension": ".py",
   "mimetype": "text/x-python",
   "name": "python",
   "nbconvert_exporter": "python",
   "pygments_lexer": "ipython3",
   "version": "3.5.4"
  }
 },
 "nbformat": 4,
 "nbformat_minor": 2
}
