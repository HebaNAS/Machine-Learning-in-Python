{
 "cells": [
  {
   "cell_type": "markdown",
   "metadata": {},
   "source": [
    "## Instructions\n",
    "-----\n",
    "This file contains code that helps you get started on the linear exercise. You will need to complete the following functions in this exerices:\n",
    "\n",
    "* warmUpExercise.py\n",
    "* plotData.py\n",
    "* gradientDescent.py\n",
    "* computeCost.py\n",
    "* gradientDescentMulti.py\n",
    "* computeCostMulti.py\n",
    "* featureNormalize.py\n",
    "* normalEqn.py\n",
    "\n",
    "For this exercise, you will not need to change any code in this file, or any other files other than those mentioned above.\n",
    "\n",
    "_x_ refers to the population size in 10,000s  \n",
    "_y_ refers to the profit in $10,000s\n",
    "<hr>"
   ]
  },
  {
   "cell_type": "markdown",
   "metadata": {},
   "source": [
    "## Part 1: Basic Function\n",
    "---\n",
    "\n",
    "Complete `warmUpExercise.py`"
   ]
  },
  {
   "cell_type": "code",
   "execution_count": 1,
   "metadata": {},
   "outputs": [],
   "source": [
    "import numpy as np\n",
    "\n",
    "def warmUpExercise():\n",
    "    \"\"\"\n",
    "    WARMUPEXERCISE Example function\n",
    "    A = WARMUPEXERCISE() is an example function that returns the 5x5 identity matrix\n",
    "    \"\"\"\n",
    "    A = []              \n",
    "\n",
    "    A = np.eye(5)\n",
    "    return A"
   ]
  },
  {
   "cell_type": "code",
   "execution_count": 2,
   "metadata": {},
   "outputs": [
    {
     "name": "stdout",
     "output_type": "stream",
     "text": [
      "Running warmUpExercise ...\n",
      "5x5 Identity Matrix: \n"
     ]
    },
    {
     "data": {
      "text/plain": [
       "array([[1., 0., 0., 0., 0.],\n",
       "       [0., 1., 0., 0., 0.],\n",
       "       [0., 0., 1., 0., 0.],\n",
       "       [0., 0., 0., 1., 0.],\n",
       "       [0., 0., 0., 0., 1.]])"
      ]
     },
     "execution_count": 2,
     "metadata": {},
     "output_type": "execute_result"
    }
   ],
   "source": [
    "print('Running warmUpExercise ...')\n",
    "print('5x5 Identity Matrix: ')\n",
    "warmUpExercise()"
   ]
  },
  {
   "cell_type": "markdown",
   "metadata": {},
   "source": [
    "<hr>"
   ]
  },
  {
   "cell_type": "markdown",
   "metadata": {},
   "source": [
    "## Part 2: Plotting\n",
    "---"
   ]
  },
  {
   "cell_type": "code",
   "execution_count": 193,
   "metadata": {},
   "outputs": [
    {
     "name": "stdout",
     "output_type": "stream",
     "text": [
      "Plotting Data ...\n",
      "Number of Training Examples:  97\n"
     ]
    },
    {
     "data": {
      "image/png": "[encoded data removed]",
      "text/plain": [
       "<matplotlib.figure.Figure at 0x1165f2080>"
      ]
     },
     "metadata": {},
     "output_type": "display_data"
    }
   ],
   "source": [
    "import pandas as pd\n",
    "import matplotlib\n",
    "import matplotlib.pyplot as plt\n",
    "%matplotlib inline\n",
    "\n",
    "print('Plotting Data ...')\n",
    "\n",
    "data = pd.read_csv('ex1data1.txt', sep=\",\", header=None)\n",
    "\n",
    "X = data.iloc[:, 0]\n",
    "y = data.iloc[:, 1]\n",
    "m = len(y) # number of training examples\n",
    "\n",
    "print('Number of Training Examples: ', m)\n",
    "\n",
    "#Plot Data\n",
    "fig = plt.figure(figsize=(8, 6))\n",
    "plt.scatter(X, y)\n",
    "plt.xlabel('Population')\n",
    "plt.ylabel('Revenue')\n",
    "plt.show()"
   ]
  },
  {
   "cell_type": "markdown",
   "metadata": {},
   "source": [
    "<hr>"
   ]
  },
  {
   "cell_type": "markdown",
   "metadata": {},
   "source": [
    "## Part 3: Cost and Gradient descent\n",
    "---"
   ]
  },
  {
   "cell_type": "code",
   "execution_count": 194,
   "metadata": {},
   "outputs": [],
   "source": [
    "# Calculate Cost\n",
    "def computeCost(X, y, theta):\n",
    "    \"\"\"\n",
    "    COMPUTECOST Compute cost for linear regression\n",
    "    J = COMPUTECOST(X, y, theta) computes the cost of using theta as the\n",
    "    parameter for linear regression to fit the data points in X and y\n",
    "    \"\"\"\n",
    "    \n",
    "    # Initialize some useful values\n",
    "    m = len(y) # number of training examples\n",
    "\n",
    "    # You need to return the following variables correctly \n",
    "    J = 0\n",
    "\n",
    "    h = X @ theta\n",
    "    h = np.ravel(h)\n",
    "    err = h - y\n",
    "    sqrErrors = np.square(err)\n",
    "    J = 1 / (2 * m) * sum(sqrErrors)\n",
    "    \n",
    "    return J"
   ]
  },
  {
   "cell_type": "code",
   "execution_count": 195,
   "metadata": {},
   "outputs": [
    {
     "name": "stdout",
     "output_type": "stream",
     "text": [
      "(97, 2)\n",
      "Testing the cost function ...\n",
      "With theta = [[0][0]]\n",
      "Cost computed = 32.072734\n",
      "Expected cost value (approx) 32.07\n",
      "With theta = [-1 ; 2]\n",
      "Cost computed = 54.242455\n",
      "Expected cost value (approx) 54.24\n"
     ]
    },
    {
     "name": "stderr",
     "output_type": "stream",
     "text": [
      "/Users/Heba/anaconda3/lib/python3.5/site-packages/ipykernel_launcher.py:2: FutureWarning: reshape is deprecated and will raise in a subsequent release. Please use .values.reshape(...) instead\n",
      "  \n"
     ]
    }
   ],
   "source": [
    "ones = np.ones((m, 1))\n",
    "X_arr = X.reshape((m, 1))\n",
    "\n",
    "X = np.hstack( ((ones), (X_arr)) ) # Add a column of ones to X\n",
    "theta = np.zeros((2, 1)) # initialize fitting parameters\n",
    "print(X.shape)\n",
    "\n",
    "#Some gradient descent settings\n",
    "iterations = 1500\n",
    "alpha = 0.01\n",
    "\n",
    "print('Testing the cost function ...')\n",
    "\n",
    "# compute and display initial cost\n",
    "J = computeCost(X, y, theta)\n",
    "print('With theta = [[0][0]]\\nCost computed = %f' % J)\n",
    "print('Expected cost value (approx) 32.07')\n",
    "\n",
    "# further testing of the cost function\n",
    "J = computeCost(X, y, np.matrix('-1; 2'))\n",
    "print('With theta = [-1 ; 2]\\nCost computed = %f' % J)\n",
    "print('Expected cost value (approx) 54.24')"
   ]
  },
  {
   "cell_type": "code",
   "execution_count": 196,
   "metadata": {},
   "outputs": [],
   "source": [
    "# Calculate Gradient Descent\n",
    "def gradientDescent(X, y, theta, alpha, num_iters):\n",
    "    \"\"\"\n",
    "    GRADIENTDESCENT Performs gradient descent to learn theta\n",
    "    theta = GRADIENTDESCENT(X, y, theta, alpha, num_iters) updates theta by \n",
    "    taking num_iters gradient steps with learning rate alpha\n",
    "    \"\"\"\n",
    "\n",
    "    # Initialize some useful values\n",
    "    m = len(y) # number of training examples\n",
    "    J_history = np.zeros([num_iters, 1])\n",
    "    \n",
    "    for iter in range(1, num_iters):\n",
    "        h = X @ theta\n",
    "        h = np.ravel(h)\n",
    "        err = h - y\n",
    "        theta = theta - (alpha * (1 / m) * (X.T @ err.reshape((97,1))))\n",
    "                                    \n",
    "        # Save the cost J in every iteration    \n",
    "        J_history[iter] = computeCost(X, y, np.asmatrix(theta))\n",
    "\n",
    "    return theta, J_history"
   ]
  },
  {
   "cell_type": "code",
   "execution_count": 210,
   "metadata": {},
   "outputs": [
    {
     "name": "stdout",
     "output_type": "stream",
     "text": [
      "Running Gradient Descent ...\n",
      "[[-3.89578088]\n",
      " [ 1.19303364]]\n",
      "Theta found by gradient descent:\n",
      "[[-3.89578088]\n",
      " [ 1.19303364]]\n",
      "Expected theta values (approx)\n",
      " -3.6303\n",
      "  1.1664\n",
      "\n",
      "\n"
     ]
    },
    {
     "name": "stderr",
     "output_type": "stream",
     "text": [
      "/Users/Heba/anaconda3/lib/python3.5/site-packages/ipykernel_launcher.py:17: FutureWarning: reshape is deprecated and will raise in a subsequent release. Please use .values.reshape(...) instead\n"
     ]
    },
    {
     "data": {
      "image/png": "[encoded data removed]",
      "text/plain": [
       "<matplotlib.figure.Figure at 0x1161eaac8>"
      ]
     },
     "metadata": {},
     "output_type": "display_data"
    },
    {
     "name": "stdout",
     "output_type": "stream",
     "text": [
      "For population = 35,000, we predict a profit of 2798.368764\n",
      "For population = 70,000, we predict a profit of 44554.546310\n"
     ]
    }
   ],
   "source": [
    "print('Running Gradient Descent ...')\n",
    "\n",
    "# run gradient descent\n",
    "theta = gradientDescent(X, y, theta, alpha, iterations)[0]\n",
    "print(np.asmatrix(theta))\n",
    "# print theta to screen\n",
    "print('Theta found by gradient descent:')\n",
    "print('%s' % np.asmatrix(theta))\n",
    "print('Expected theta values (approx)')\n",
    "print(' -3.6303\\n  1.1664\\n\\n')\n",
    "\n",
    "# Plot the linear fit\n",
    "fig = plt.figure(figsize=(8, 6))\n",
    "plt.scatter(X[:, 1], y, c='green')\n",
    "plt.plot(X[:, 1], X @ theta)\n",
    "plt.xlabel('Population')\n",
    "plt.ylabel('Revenue')\n",
    "#plt.legend('Training data', 'Linear regression')\n",
    "plt.show()\n",
    "\n",
    "# Predict values for population sizes of 35,000 and 70,000\n",
    "predict1 = [1, 3.5] @ theta\n",
    "print('For population = 35,000, we predict a profit of %f' % (predict1 * 10000))\n",
    "predict2 = [1, 7] @ theta\n",
    "print('For population = 70,000, we predict a profit of %f' % (predict2 * 10000))"
   ]
  },
  {
   "cell_type": "code",
   "execution_count": null,
   "metadata": {},
   "outputs": [],
   "source": []
  }
 ],
 "metadata": {
  "kernelspec": {
   "display_name": "Python 3",
   "language": "python",
   "name": "python3"
  },
  "language_info": {
   "codemirror_mode": {
    "name": "ipython",
    "version": 3
   },
   "file_extension": ".py",
   "mimetype": "text/x-python",
   "name": "python",
   "nbconvert_exporter": "python",
   "pygments_lexer": "ipython3",
   "version": "3.5.4"
  }
 },
 "nbformat": 4,
 "nbformat_minor": 2
}
